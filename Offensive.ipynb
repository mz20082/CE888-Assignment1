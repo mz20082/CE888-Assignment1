{
  "nbformat": 4,
  "nbformat_minor": 0,
  "metadata": {
    "colab": {
      "name": "Offensive.ipynb",
      "provenance": [],
      "authorship_tag": "ABX9TyPciLJByv/HJ5LyopFNv1N/",
      "include_colab_link": true
    },
    "kernelspec": {
      "name": "python3",
      "display_name": "Python 3"
    }
  },
  "cells": [
    {
      "cell_type": "markdown",
      "metadata": {
        "id": "view-in-github",
        "colab_type": "text"
      },
      "source": [
        "<a href=\"https://colab.research.google.com/github/mz20082/CE888-Assignment1/blob/main/Offensive.ipynb\" target=\"_parent\"><img src=\"https://colab.research.google.com/assets/colab-badge.svg\" alt=\"Open In Colab\"/></a>"
      ]
    },
    {
      "cell_type": "code",
      "metadata": {
        "colab": {
          "resources": {
            "http://localhost:8080/nbextensions/google.colab/files.js": {
              "data": "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",
              "ok": true,
              "headers": [
                [
                  "content-type",
                  "application/javascript"
                ]
              ],
              "status": 200,
              "status_text": ""
            }
          },
          "base_uri": "https://localhost:8080/",
          "height": 281
        },
        "id": "lgwlcKJIPcLM",
        "outputId": "5aa7dc5f-e50b-43a3-eb9d-ef20d7dd8a87"
      },
      "source": [
        "from google.colab import files \r\n",
        "uploaded = files.upload()"
      ],
      "execution_count": 2,
      "outputs": [
        {
          "output_type": "display_data",
          "data": {
            "text/html": [
              "\n",
              "     <input type=\"file\" id=\"files-cff090d3-6cf3-4a8a-a61a-48e7da6c5234\" name=\"files[]\" multiple disabled\n",
              "        style=\"border:none\" />\n",
              "     <output id=\"result-cff090d3-6cf3-4a8a-a61a-48e7da6c5234\">\n",
              "      Upload widget is only available when the cell has been executed in the\n",
              "      current browser session. Please rerun this cell to enable.\n",
              "      </output>\n",
              "      <script src=\"/nbextensions/google.colab/files.js\"></script> "
            ],
            "text/plain": [
              "<IPython.core.display.HTML object>"
            ]
          },
          "metadata": {
            "tags": []
          }
        },
        {
          "output_type": "stream",
          "text": [
            "Saving mapping.txt to mapping (1).txt\n",
            "Saving test_labels.txt to test_labels (1).txt\n",
            "Saving test_text.txt to test_text (1).txt\n",
            "Saving train_labels.txt to train_labels (1).txt\n",
            "Saving train_text.txt to train_text (1).txt\n",
            "Saving val_labels.txt to val_labels (1).txt\n",
            "Saving val_text.txt to val_text (1).txt\n"
          ],
          "name": "stdout"
        }
      ]
    },
    {
      "cell_type": "code",
      "metadata": {
        "id": "Ggt4cZcWQxNF"
      },
      "source": [
        "#importing and installing the required libraries for our prediction"
      ],
      "execution_count": null,
      "outputs": []
    },
    {
      "cell_type": "code",
      "metadata": {
        "colab": {
          "base_uri": "https://localhost:8080/"
        },
        "id": "ylBrlQyiQMP0",
        "outputId": "242377cc-8641-4fd6-e028-920708963205"
      },
      "source": [
        "import pandas as pd\r\n",
        "import numpy as np\r\n",
        "import matplotlib.pyplot as plt\r\n",
        "import nltk\r\n",
        "import string\r\n",
        "import csv\r\n",
        "import re\r\n",
        "import itertools\r\n",
        "from sklearn.model_selection import train_test_split, RandomizedSearchCV, cross_validate, validation_curve\r\n",
        "from sklearn.ensemble import VotingClassifier,RandomForestClassifier\r\n",
        "from sklearn.feature_extraction.text import TfidfVectorizer, CountVectorizer, TfidfTransformer\r\n",
        "from sklearn import model_selection, preprocessing, linear_model, naive_bayes, metrics, svm, decomposition, ensemble\r\n",
        "from sklearn.naive_bayes import MultinomialNB\r\n",
        "from sklearn.pipeline import Pipeline\r\n",
        "from sklearn.neighbors import KNeighborsClassifier\r\n",
        "from mlxtend.classifier import EnsembleVoteClassifier\r\n",
        "from sklearn.metrics import classification_report, confusion_matrix, accuracy_score, roc_curve, precision_recall_curve"
      ],
      "execution_count": 3,
      "outputs": [
        {
          "output_type": "stream",
          "text": [
            "/usr/local/lib/python3.7/dist-packages/sklearn/externals/six.py:31: FutureWarning: The module is deprecated in version 0.21 and will be removed in version 0.23 since we've dropped support for Python 2.7. Please rely on the official version of six (https://pypi.org/project/six/).\n",
            "  \"(https://pypi.org/project/six/).\", FutureWarning)\n"
          ],
          "name": "stderr"
        }
      ]
    },
    {
      "cell_type": "code",
      "metadata": {
        "colab": {
          "base_uri": "https://localhost:8080/"
        },
        "id": "tzXlptraQvpb",
        "outputId": "86317c33-31b9-4f18-f59d-3a571e6d10bf"
      },
      "source": [
        "#read the libraries which had been uploaded using import function\r\n",
        "train  = pd.read_csv('train_text.txt',error_bad_lines=False)\r\n",
        "test = pd.read_csv('test_text.txt',error_bad_lines=False)"
      ],
      "execution_count": 4,
      "outputs": [
        {
          "output_type": "stream",
          "text": [
            "b'Skipping line 6: expected 1 fields, saw 2\\nSkipping line 12: expected 1 fields, saw 3\\nSkipping line 18: expected 1 fields, saw 3\\nSkipping line 120: expected 1 fields, saw 4\\nSkipping line 125: expected 1 fields, saw 3\\nSkipping line 127: expected 1 fields, saw 3\\nSkipping line 135: expected 1 fields, saw 2\\nSkipping line 159: expected 1 fields, saw 3\\nSkipping line 177: expected 1 fields, saw 3\\nSkipping line 204: expected 1 fields, saw 3\\nSkipping line 220: expected 1 fields, saw 3\\nSkipping line 226: expected 1 fields, saw 2\\nSkipping line 247: expected 1 fields, saw 2\\nSkipping line 258: expected 1 fields, saw 2\\nSkipping line 291: expected 1 fields, saw 2\\nSkipping line 332: expected 1 fields, saw 2\\nSkipping line 349: expected 1 fields, saw 2\\nSkipping line 380: expected 1 fields, saw 2\\nSkipping line 395: expected 1 fields, saw 6\\nSkipping line 411: expected 1 fields, saw 4\\nSkipping line 455: expected 1 fields, saw 2\\nSkipping line 493: expected 1 fields, saw 2\\nSkipping line 544: expected 1 fields, saw 5\\nSkipping line 604: expected 1 fields, saw 4\\nSkipping line 620: expected 1 fields, saw 2\\nSkipping line 644: expected 1 fields, saw 2\\nSkipping line 712: expected 1 fields, saw 3\\nSkipping line 728: expected 1 fields, saw 5\\nSkipping line 748: expected 1 fields, saw 3\\nSkipping line 766: expected 1 fields, saw 2\\nSkipping line 777: expected 1 fields, saw 2\\nSkipping line 788: expected 1 fields, saw 2\\nSkipping line 814: expected 1 fields, saw 2\\nSkipping line 848: expected 1 fields, saw 2\\nSkipping line 885: expected 1 fields, saw 4\\nSkipping line 891: expected 1 fields, saw 2\\nSkipping line 894: expected 1 fields, saw 2\\nSkipping line 901: expected 1 fields, saw 4\\nSkipping line 914: expected 1 fields, saw 2\\nSkipping line 930: expected 1 fields, saw 2\\nSkipping line 962: expected 1 fields, saw 8\\nSkipping line 994: expected 1 fields, saw 2\\nSkipping line 1016: expected 1 fields, saw 2\\nSkipping line 1023: expected 1 fields, saw 3\\nSkipping line 1034: expected 1 fields, saw 5\\nSkipping line 1072: expected 1 fields, saw 2\\nSkipping line 1105: expected 1 fields, saw 4\\nSkipping line 1121: expected 1 fields, saw 2\\nSkipping line 1140: expected 1 fields, saw 3\\nSkipping line 1175: expected 1 fields, saw 3\\nSkipping line 1187: expected 1 fields, saw 4\\nSkipping line 1195: expected 1 fields, saw 3\\nSkipping line 1208: expected 1 fields, saw 4\\nSkipping line 1223: expected 1 fields, saw 3\\nSkipping line 1235: expected 1 fields, saw 3\\nSkipping line 1259: expected 1 fields, saw 3\\nSkipping line 1275: expected 1 fields, saw 3\\nSkipping line 1311: expected 1 fields, saw 2\\nSkipping line 1319: expected 1 fields, saw 3\\nSkipping line 1337: expected 1 fields, saw 3\\nSkipping line 1338: expected 1 fields, saw 2\\nSkipping line 1340: expected 1 fields, saw 2\\nSkipping line 1356: expected 1 fields, saw 2\\nSkipping line 1357: expected 1 fields, saw 2\\nSkipping line 1362: expected 1 fields, saw 3\\nSkipping line 1372: expected 1 fields, saw 3\\nSkipping line 1385: expected 1 fields, saw 2\\nSkipping line 1390: expected 1 fields, saw 3\\nSkipping line 1396: expected 1 fields, saw 4\\nSkipping line 1402: expected 1 fields, saw 5\\nSkipping line 1411: expected 1 fields, saw 4\\nSkipping line 1456: expected 1 fields, saw 4\\nSkipping line 1501: expected 1 fields, saw 4\\nSkipping line 1503: expected 1 fields, saw 2\\nSkipping line 1516: expected 1 fields, saw 3\\nSkipping line 1529: expected 1 fields, saw 9\\nSkipping line 1567: expected 1 fields, saw 5\\nSkipping line 1606: expected 1 fields, saw 3\\nSkipping line 1610: expected 1 fields, saw 2\\nSkipping line 1615: expected 1 fields, saw 2\\nSkipping line 1625: expected 1 fields, saw 5\\nSkipping line 1673: expected 1 fields, saw 9\\nSkipping line 1674: expected 1 fields, saw 2\\nSkipping line 1693: expected 1 fields, saw 3\\nSkipping line 1698: expected 1 fields, saw 2\\nSkipping line 1734: expected 1 fields, saw 2\\nSkipping line 1744: expected 1 fields, saw 2\\nSkipping line 1767: expected 1 fields, saw 6\\nSkipping line 1769: expected 1 fields, saw 2\\nSkipping line 1785: expected 1 fields, saw 4\\nSkipping line 1792: expected 1 fields, saw 6\\nSkipping line 1794: expected 1 fields, saw 2\\nSkipping line 1805: expected 1 fields, saw 2\\nSkipping line 1825: expected 1 fields, saw 7\\nSkipping line 1843: expected 1 fields, saw 2\\nSkipping line 1854: expected 1 fields, saw 4\\nSkipping line 1856: expected 1 fields, saw 4\\nSkipping line 1865: expected 1 fields, saw 4\\nSkipping line 1910: expected 1 fields, saw 2\\nSkipping line 1927: expected 1 fields, saw 2\\nSkipping line 1935: expected 1 fields, saw 4\\nSkipping line 1976: expected 1 fields, saw 2\\nSkipping line 2071: expected 1 fields, saw 2\\nSkipping line 2093: expected 1 fields, saw 2\\nSkipping line 2096: expected 1 fields, saw 2\\nSkipping line 2116: expected 1 fields, saw 2\\nSkipping line 2147: expected 1 fields, saw 3\\nSkipping line 2164: expected 1 fields, saw 6\\nSkipping line 2256: expected 1 fields, saw 3\\nSkipping line 2262: expected 1 fields, saw 2\\nSkipping line 2278: expected 1 fields, saw 3\\nSkipping line 2294: expected 1 fields, saw 2\\nSkipping line 2321: expected 1 fields, saw 7\\nSkipping line 2327: expected 1 fields, saw 2\\nSkipping line 2336: expected 1 fields, saw 3\\nSkipping line 2387: expected 1 fields, saw 4\\nSkipping line 2399: expected 1 fields, saw 2\\nSkipping line 2405: expected 1 fields, saw 2\\nSkipping line 2407: expected 1 fields, saw 2\\nSkipping line 2431: expected 1 fields, saw 3\\nSkipping line 2469: expected 1 fields, saw 2\\nSkipping line 2502: expected 1 fields, saw 2\\nSkipping line 2521: expected 1 fields, saw 3\\nSkipping line 2577: expected 1 fields, saw 3\\nSkipping line 2579: expected 1 fields, saw 2\\nSkipping line 2617: expected 1 fields, saw 2\\nSkipping line 2625: expected 1 fields, saw 4\\nSkipping line 2679: expected 1 fields, saw 3\\nSkipping line 2724: expected 1 fields, saw 2\\nSkipping line 2728: expected 1 fields, saw 3\\nSkipping line 2788: expected 1 fields, saw 2\\nSkipping line 2793: expected 1 fields, saw 2\\nSkipping line 2805: expected 1 fields, saw 6\\nSkipping line 2821: expected 1 fields, saw 2\\nSkipping line 2833: expected 1 fields, saw 2\\nSkipping line 2860: expected 1 fields, saw 2\\nSkipping line 2905: expected 1 fields, saw 5\\nSkipping line 2911: expected 1 fields, saw 3\\nSkipping line 2914: expected 1 fields, saw 4\\nSkipping line 2915: expected 1 fields, saw 9\\nSkipping line 2957: expected 1 fields, saw 4\\nSkipping line 2960: expected 1 fields, saw 3\\nSkipping line 2962: expected 1 fields, saw 2\\nSkipping line 2965: expected 1 fields, saw 3\\nSkipping line 3020: expected 1 fields, saw 2\\nSkipping line 3031: expected 1 fields, saw 2\\nSkipping line 3037: expected 1 fields, saw 2\\nSkipping line 3061: expected 1 fields, saw 3\\nSkipping line 3086: expected 1 fields, saw 3\\nSkipping line 3126: expected 1 fields, saw 3\\nSkipping line 3152: expected 1 fields, saw 2\\nSkipping line 3202: expected 1 fields, saw 3\\nSkipping line 3273: expected 1 fields, saw 7\\nSkipping line 3289: expected 1 fields, saw 4\\nSkipping line 3293: expected 1 fields, saw 3\\nSkipping line 3305: expected 1 fields, saw 4\\nSkipping line 3326: expected 1 fields, saw 5\\nSkipping line 3332: expected 1 fields, saw 3\\nSkipping line 3334: expected 1 fields, saw 2\\nSkipping line 3350: expected 1 fields, saw 3\\nSkipping line 3410: expected 1 fields, saw 3\\nSkipping line 3437: expected 1 fields, saw 7\\nSkipping line 3471: expected 1 fields, saw 7\\nSkipping line 3483: expected 1 fields, saw 3\\nSkipping line 3515: expected 1 fields, saw 4\\nSkipping line 3532: expected 1 fields, saw 5\\nSkipping line 3540: expected 1 fields, saw 4\\nSkipping line 3577: expected 1 fields, saw 2\\nSkipping line 3660: expected 1 fields, saw 2\\nSkipping line 3685: expected 1 fields, saw 2\\nSkipping line 3765: expected 1 fields, saw 2\\nSkipping line 3785: expected 1 fields, saw 5\\nSkipping line 3794: expected 1 fields, saw 4\\nSkipping line 3799: expected 1 fields, saw 4\\nSkipping line 3824: expected 1 fields, saw 3\\nSkipping line 3830: expected 1 fields, saw 2\\nSkipping line 3831: expected 1 fields, saw 4\\nSkipping line 3854: expected 1 fields, saw 3\\nSkipping line 3864: expected 1 fields, saw 3\\nSkipping line 3889: expected 1 fields, saw 2\\nSkipping line 3900: expected 1 fields, saw 4\\nSkipping line 3910: expected 1 fields, saw 4\\nSkipping line 3917: expected 1 fields, saw 3\\nSkipping line 3945: expected 1 fields, saw 2\\nSkipping line 3982: expected 1 fields, saw 5\\nSkipping line 3999: expected 1 fields, saw 2\\nSkipping line 4024: expected 1 fields, saw 4\\nSkipping line 4033: expected 1 fields, saw 4\\nSkipping line 4091: expected 1 fields, saw 2\\nSkipping line 4113: expected 1 fields, saw 3\\nSkipping line 4120: expected 1 fields, saw 6\\nSkipping line 4149: expected 1 fields, saw 2\\nSkipping line 4164: expected 1 fields, saw 3\\nSkipping line 4169: expected 1 fields, saw 4\\nSkipping line 4172: expected 1 fields, saw 5\\nSkipping line 4176: expected 1 fields, saw 2\\nSkipping line 4218: expected 1 fields, saw 2\\nSkipping line 4230: expected 1 fields, saw 2\\nSkipping line 4306: expected 1 fields, saw 3\\nSkipping line 4312: expected 1 fields, saw 3\\nSkipping line 4346: expected 1 fields, saw 2\\nSkipping line 4349: expected 1 fields, saw 2\\nSkipping line 4394: expected 1 fields, saw 3\\nSkipping line 4439: expected 1 fields, saw 5\\nSkipping line 4442: expected 1 fields, saw 2\\nSkipping line 4443: expected 1 fields, saw 3\\nSkipping line 4463: expected 1 fields, saw 3\\nSkipping line 4470: expected 1 fields, saw 2\\nSkipping line 4474: expected 1 fields, saw 4\\nSkipping line 4490: expected 1 fields, saw 3\\nSkipping line 4568: expected 1 fields, saw 6\\nSkipping line 4575: expected 1 fields, saw 5\\nSkipping line 4584: expected 1 fields, saw 2\\nSkipping line 4620: expected 1 fields, saw 2\\nSkipping line 4622: expected 1 fields, saw 4\\nSkipping line 4632: expected 1 fields, saw 2\\nSkipping line 4664: expected 1 fields, saw 5\\nSkipping line 4701: expected 1 fields, saw 4\\nSkipping line 4715: expected 1 fields, saw 5\\nSkipping line 4747: expected 1 fields, saw 2\\nSkipping line 4776: expected 1 fields, saw 7\\nSkipping line 4786: expected 1 fields, saw 3\\nSkipping line 4812: expected 1 fields, saw 2\\nSkipping line 4817: expected 1 fields, saw 2\\nSkipping line 4844: expected 1 fields, saw 2\\nSkipping line 4850: expected 1 fields, saw 2\\nSkipping line 4921: expected 1 fields, saw 2\\nSkipping line 4941: expected 1 fields, saw 2\\nSkipping line 4959: expected 1 fields, saw 3\\nSkipping line 5003: expected 1 fields, saw 2\\nSkipping line 5034: expected 1 fields, saw 2\\nSkipping line 5126: expected 1 fields, saw 2\\nSkipping line 5146: expected 1 fields, saw 4\\nSkipping line 5175: expected 1 fields, saw 3\\nSkipping line 5206: expected 1 fields, saw 5\\nSkipping line 5214: expected 1 fields, saw 3\\nSkipping line 5219: expected 1 fields, saw 2\\nSkipping line 5295: expected 1 fields, saw 2\\nSkipping line 5339: expected 1 fields, saw 2\\nSkipping line 5344: expected 1 fields, saw 4\\nSkipping line 5354: expected 1 fields, saw 2\\nSkipping line 5362: expected 1 fields, saw 3\\nSkipping line 5371: expected 1 fields, saw 2\\nSkipping line 5375: expected 1 fields, saw 3\\nSkipping line 5394: expected 1 fields, saw 3\\nSkipping line 5455: expected 1 fields, saw 2\\nSkipping line 5462: expected 1 fields, saw 2\\nSkipping line 5465: expected 1 fields, saw 4\\nSkipping line 5469: expected 1 fields, saw 2\\nSkipping line 5480: expected 1 fields, saw 2\\nSkipping line 5522: expected 1 fields, saw 5\\nSkipping line 5564: expected 1 fields, saw 4\\nSkipping line 5584: expected 1 fields, saw 2\\nSkipping line 5589: expected 1 fields, saw 2\\nSkipping line 5593: expected 1 fields, saw 2\\nSkipping line 5617: expected 1 fields, saw 5\\nSkipping line 5627: expected 1 fields, saw 3\\nSkipping line 5636: expected 1 fields, saw 2\\nSkipping line 5703: expected 1 fields, saw 2\\nSkipping line 5712: expected 1 fields, saw 2\\nSkipping line 5732: expected 1 fields, saw 3\\nSkipping line 5755: expected 1 fields, saw 2\\nSkipping line 5854: expected 1 fields, saw 2\\nSkipping line 5909: expected 1 fields, saw 3\\nSkipping line 5914: expected 1 fields, saw 2\\nSkipping line 5937: expected 1 fields, saw 2\\nSkipping line 5941: expected 1 fields, saw 2\\nSkipping line 5989: expected 1 fields, saw 3\\nSkipping line 6061: expected 1 fields, saw 2\\nSkipping line 6069: expected 1 fields, saw 4\\nSkipping line 6107: expected 1 fields, saw 3\\nSkipping line 6116: expected 1 fields, saw 2\\nSkipping line 6119: expected 1 fields, saw 2\\nSkipping line 6129: expected 1 fields, saw 3\\nSkipping line 6135: expected 1 fields, saw 4\\nSkipping line 6166: expected 1 fields, saw 5\\nSkipping line 6180: expected 1 fields, saw 2\\nSkipping line 6182: expected 1 fields, saw 4\\nSkipping line 6196: expected 1 fields, saw 3\\nSkipping line 6204: expected 1 fields, saw 2\\nSkipping line 6220: expected 1 fields, saw 4\\nSkipping line 6223: expected 1 fields, saw 3\\nSkipping line 6266: expected 1 fields, saw 2\\nSkipping line 6282: expected 1 fields, saw 2\\nSkipping line 6292: expected 1 fields, saw 2\\nSkipping line 6302: expected 1 fields, saw 3\\nSkipping line 6334: expected 1 fields, saw 3\\nSkipping line 6338: expected 1 fields, saw 5\\nSkipping line 6359: expected 1 fields, saw 3\\nSkipping line 6445: expected 1 fields, saw 2\\nSkipping line 6466: expected 1 fields, saw 2\\nSkipping line 6467: expected 1 fields, saw 2\\nSkipping line 6478: expected 1 fields, saw 3\\nSkipping line 6483: expected 1 fields, saw 2\\nSkipping line 6509: expected 1 fields, saw 5\\nSkipping line 6525: expected 1 fields, saw 3\\nSkipping line 6530: expected 1 fields, saw 4\\nSkipping line 6561: expected 1 fields, saw 6\\nSkipping line 6634: expected 1 fields, saw 2\\nSkipping line 6668: expected 1 fields, saw 2\\nSkipping line 6735: expected 1 fields, saw 3\\nSkipping line 6738: expected 1 fields, saw 2\\nSkipping line 6742: expected 1 fields, saw 2\\nSkipping line 6777: expected 1 fields, saw 5\\nSkipping line 6781: expected 1 fields, saw 3\\nSkipping line 6800: expected 1 fields, saw 3\\nSkipping line 6804: expected 1 fields, saw 4\\nSkipping line 6841: expected 1 fields, saw 2\\nSkipping line 6868: expected 1 fields, saw 3\\nSkipping line 6893: expected 1 fields, saw 3\\nSkipping line 6919: expected 1 fields, saw 3\\nSkipping line 6930: expected 1 fields, saw 2\\nSkipping line 6940: expected 1 fields, saw 2\\nSkipping line 6962: expected 1 fields, saw 2\\nSkipping line 6980: expected 1 fields, saw 5\\nSkipping line 7015: expected 1 fields, saw 3\\nSkipping line 7022: expected 1 fields, saw 3\\nSkipping line 7029: expected 1 fields, saw 2\\nSkipping line 7075: expected 1 fields, saw 3\\nSkipping line 7102: expected 1 fields, saw 4\\nSkipping line 7116: expected 1 fields, saw 3\\nSkipping line 7119: expected 1 fields, saw 4\\nSkipping line 7120: expected 1 fields, saw 2\\nSkipping line 7184: expected 1 fields, saw 2\\nSkipping line 7205: expected 1 fields, saw 3\\nSkipping line 7268: expected 1 fields, saw 4\\nSkipping line 7319: expected 1 fields, saw 3\\nSkipping line 7337: expected 1 fields, saw 3\\nSkipping line 7349: expected 1 fields, saw 5\\nSkipping line 7360: expected 1 fields, saw 4\\nSkipping line 7414: expected 1 fields, saw 4\\nSkipping line 7417: expected 1 fields, saw 2\\nSkipping line 7483: expected 1 fields, saw 2\\nSkipping line 7495: expected 1 fields, saw 2\\nSkipping line 7503: expected 1 fields, saw 4\\nSkipping line 7550: expected 1 fields, saw 2\\nSkipping line 7568: expected 1 fields, saw 2\\nSkipping line 7603: expected 1 fields, saw 5\\nSkipping line 7610: expected 1 fields, saw 2\\nSkipping line 7672: expected 1 fields, saw 3\\nSkipping line 7674: expected 1 fields, saw 3\\nSkipping line 7676: expected 1 fields, saw 2\\nSkipping line 7690: expected 1 fields, saw 3\\nSkipping line 7697: expected 1 fields, saw 6\\nSkipping line 7701: expected 1 fields, saw 2\\nSkipping line 7707: expected 1 fields, saw 2\\nSkipping line 7775: expected 1 fields, saw 2\\nSkipping line 7778: expected 1 fields, saw 4\\nSkipping line 7779: expected 1 fields, saw 5\\nSkipping line 7823: expected 1 fields, saw 2\\nSkipping line 7832: expected 1 fields, saw 2\\nSkipping line 7833: expected 1 fields, saw 4\\nSkipping line 7840: expected 1 fields, saw 5\\nSkipping line 7860: expected 1 fields, saw 3\\nSkipping line 7879: expected 1 fields, saw 2\\nSkipping line 7914: expected 1 fields, saw 2\\nSkipping line 7921: expected 1 fields, saw 2\\nSkipping line 7930: expected 1 fields, saw 4\\nSkipping line 7949: expected 1 fields, saw 2\\nSkipping line 7960: expected 1 fields, saw 3\\nSkipping line 7988: expected 1 fields, saw 3\\nSkipping line 8022: expected 1 fields, saw 2\\nSkipping line 8074: expected 1 fields, saw 5\\nSkipping line 8135: expected 1 fields, saw 2\\nSkipping line 8144: expected 1 fields, saw 3\\nSkipping line 8201: expected 1 fields, saw 4\\nSkipping line 8221: expected 1 fields, saw 2\\nSkipping line 8240: expected 1 fields, saw 2\\nSkipping line 8244: expected 1 fields, saw 3\\nSkipping line 8268: expected 1 fields, saw 3\\nSkipping line 8293: expected 1 fields, saw 2\\nSkipping line 8353: expected 1 fields, saw 3\\nSkipping line 8360: expected 1 fields, saw 4\\nSkipping line 8362: expected 1 fields, saw 2\\nSkipping line 8380: expected 1 fields, saw 2\\nSkipping line 8400: expected 1 fields, saw 2\\nSkipping line 8410: expected 1 fields, saw 2\\nSkipping line 8437: expected 1 fields, saw 3\\nSkipping line 8438: expected 1 fields, saw 3\\nSkipping line 8491: expected 1 fields, saw 3\\nSkipping line 8549: expected 1 fields, saw 2\\nSkipping line 8558: expected 1 fields, saw 3\\nSkipping line 8564: expected 1 fields, saw 2\\nSkipping line 8568: expected 1 fields, saw 3\\nSkipping line 8618: expected 1 fields, saw 2\\nSkipping line 8624: expected 1 fields, saw 2\\nSkipping line 8631: expected 1 fields, saw 3\\nSkipping line 8681: expected 1 fields, saw 5\\nSkipping line 8697: expected 1 fields, saw 3\\nSkipping line 8701: expected 1 fields, saw 5\\nSkipping line 8740: expected 1 fields, saw 3\\nSkipping line 8742: expected 1 fields, saw 2\\nSkipping line 8774: expected 1 fields, saw 3\\nSkipping line 8806: expected 1 fields, saw 2\\nSkipping line 8821: expected 1 fields, saw 5\\nSkipping line 8824: expected 1 fields, saw 2\\nSkipping line 8841: expected 1 fields, saw 3\\nSkipping line 8859: expected 1 fields, saw 2\\nSkipping line 8880: expected 1 fields, saw 3\\nSkipping line 8882: expected 1 fields, saw 5\\nSkipping line 8899: expected 1 fields, saw 2\\nSkipping line 8901: expected 1 fields, saw 5\\nSkipping line 8913: expected 1 fields, saw 2\\nSkipping line 8931: expected 1 fields, saw 2\\nSkipping line 8997: expected 1 fields, saw 2\\nSkipping line 9037: expected 1 fields, saw 4\\nSkipping line 9046: expected 1 fields, saw 4\\nSkipping line 9083: expected 1 fields, saw 4\\nSkipping line 9104: expected 1 fields, saw 3\\nSkipping line 9121: expected 1 fields, saw 4\\nSkipping line 9140: expected 1 fields, saw 3\\nSkipping line 9149: expected 1 fields, saw 2\\nSkipping line 9166: expected 1 fields, saw 2\\nSkipping line 9173: expected 1 fields, saw 3\\nSkipping line 9189: expected 1 fields, saw 4\\nSkipping line 9194: expected 1 fields, saw 2\\nSkipping line 9205: expected 1 fields, saw 2\\nSkipping line 9215: expected 1 fields, saw 3\\nSkipping line 9229: expected 1 fields, saw 3\\nSkipping line 9271: expected 1 fields, saw 2\\nSkipping line 9286: expected 1 fields, saw 3\\nSkipping line 9299: expected 1 fields, saw 3\\nSkipping line 9328: expected 1 fields, saw 2\\nSkipping line 9356: expected 1 fields, saw 2\\nSkipping line 9367: expected 1 fields, saw 4\\nSkipping line 9377: expected 1 fields, saw 2\\nSkipping line 9381: expected 1 fields, saw 3\\nSkipping line 9406: expected 1 fields, saw 2\\nSkipping line 9412: expected 1 fields, saw 3\\nSkipping line 9437: expected 1 fields, saw 2\\nSkipping line 9464: expected 1 fields, saw 2\\nSkipping line 9472: expected 1 fields, saw 2\\nSkipping line 9562: expected 1 fields, saw 2\\nSkipping line 9575: expected 1 fields, saw 6\\nSkipping line 9603: expected 1 fields, saw 5\\nSkipping line 9614: expected 1 fields, saw 7\\nSkipping line 9616: expected 1 fields, saw 2\\nSkipping line 9637: expected 1 fields, saw 3\\nSkipping line 9653: expected 1 fields, saw 4\\nSkipping line 9660: expected 1 fields, saw 2\\nSkipping line 9667: expected 1 fields, saw 4\\nSkipping line 9676: expected 1 fields, saw 5\\nSkipping line 9681: expected 1 fields, saw 2\\nSkipping line 9742: expected 1 fields, saw 3\\nSkipping line 9751: expected 1 fields, saw 7\\nSkipping line 9752: expected 1 fields, saw 8\\nSkipping line 9765: expected 1 fields, saw 2\\nSkipping line 9771: expected 1 fields, saw 4\\nSkipping line 9798: expected 1 fields, saw 6\\nSkipping line 9832: expected 1 fields, saw 2\\nSkipping line 9855: expected 1 fields, saw 3\\nSkipping line 9888: expected 1 fields, saw 5\\nSkipping line 9904: expected 1 fields, saw 3\\nSkipping line 9918: expected 1 fields, saw 2\\nSkipping line 9925: expected 1 fields, saw 3\\nSkipping line 9976: expected 1 fields, saw 2\\nSkipping line 9978: expected 1 fields, saw 2\\nSkipping line 9980: expected 1 fields, saw 2\\nSkipping line 10019: expected 1 fields, saw 2\\nSkipping line 10053: expected 1 fields, saw 2\\nSkipping line 10056: expected 1 fields, saw 5\\nSkipping line 10083: expected 1 fields, saw 5\\nSkipping line 10106: expected 1 fields, saw 3\\nSkipping line 10128: expected 1 fields, saw 5\\nSkipping line 10140: expected 1 fields, saw 2\\nSkipping line 10189: expected 1 fields, saw 2\\nSkipping line 10227: expected 1 fields, saw 3\\nSkipping line 10230: expected 1 fields, saw 3\\nSkipping line 10238: expected 1 fields, saw 2\\nSkipping line 10266: expected 1 fields, saw 2\\nSkipping line 10310: expected 1 fields, saw 2\\nSkipping line 10402: expected 1 fields, saw 2\\nSkipping line 10424: expected 1 fields, saw 2\\nSkipping line 10425: expected 1 fields, saw 3\\nSkipping line 10438: expected 1 fields, saw 2\\nSkipping line 10453: expected 1 fields, saw 4\\nSkipping line 10504: expected 1 fields, saw 3\\nSkipping line 10518: expected 1 fields, saw 2\\nSkipping line 10572: expected 1 fields, saw 3\\nSkipping line 10596: expected 1 fields, saw 2\\nSkipping line 10600: expected 1 fields, saw 4\\nSkipping line 10614: expected 1 fields, saw 3\\nSkipping line 10621: expected 1 fields, saw 4\\nSkipping line 10652: expected 1 fields, saw 4\\nSkipping line 10667: expected 1 fields, saw 2\\nSkipping line 10708: expected 1 fields, saw 4\\nSkipping line 10745: expected 1 fields, saw 3\\nSkipping line 10760: expected 1 fields, saw 2\\nSkipping line 10774: expected 1 fields, saw 2\\nSkipping line 10815: expected 1 fields, saw 3\\nSkipping line 10822: expected 1 fields, saw 5\\nSkipping line 10863: expected 1 fields, saw 2\\nSkipping line 10891: expected 1 fields, saw 2\\nSkipping line 10897: expected 1 fields, saw 3\\nSkipping line 10905: expected 1 fields, saw 4\\nSkipping line 10912: expected 1 fields, saw 2\\nSkipping line 11009: expected 1 fields, saw 4\\nSkipping line 11021: expected 1 fields, saw 2\\nSkipping line 11031: expected 1 fields, saw 4\\nSkipping line 11037: expected 1 fields, saw 3\\nSkipping line 11042: expected 1 fields, saw 4\\nSkipping line 11046: expected 1 fields, saw 4\\nSkipping line 11139: expected 1 fields, saw 3\\nSkipping line 11195: expected 1 fields, saw 6\\nSkipping line 11202: expected 1 fields, saw 2\\nSkipping line 11214: expected 1 fields, saw 2\\nSkipping line 11260: expected 1 fields, saw 2\\nSkipping line 11284: expected 1 fields, saw 3\\nSkipping line 11324: expected 1 fields, saw 3\\nSkipping line 11332: expected 1 fields, saw 3\\nSkipping line 11347: expected 1 fields, saw 3\\nSkipping line 11349: expected 1 fields, saw 3\\nSkipping line 11554: expected 1 fields, saw 2\\nSkipping line 11562: expected 1 fields, saw 2\\nSkipping line 11569: expected 1 fields, saw 3\\nSkipping line 11641: expected 1 fields, saw 2\\nSkipping line 11644: expected 1 fields, saw 3\\nSkipping line 11686: expected 1 fields, saw 3\\nSkipping line 11715: expected 1 fields, saw 2\\nSkipping line 11724: expected 1 fields, saw 2\\nSkipping line 11726: expected 1 fields, saw 3\\nSkipping line 11745: expected 1 fields, saw 2\\nSkipping line 11753: expected 1 fields, saw 3\\nSkipping line 11786: expected 1 fields, saw 6\\nSkipping line 11788: expected 1 fields, saw 2\\nSkipping line 11795: expected 1 fields, saw 2\\nSkipping line 11802: expected 1 fields, saw 3\\nSkipping line 11809: expected 1 fields, saw 4\\nSkipping line 11814: expected 1 fields, saw 2\\nSkipping line 11847: expected 1 fields, saw 3\\nSkipping line 11849: expected 1 fields, saw 4\\nSkipping line 11887: expected 1 fields, saw 3\\nSkipping line 11904: expected 1 fields, saw 2\\nSkipping line 11909: expected 1 fields, saw 3\\n'\n",
            "b'Skipping line 3: expected 1 fields, saw 5\\nSkipping line 5: expected 1 fields, saw 5\\nSkipping line 8: expected 1 fields, saw 3\\nSkipping line 9: expected 1 fields, saw 3\\nSkipping line 11: expected 1 fields, saw 3\\nSkipping line 13: expected 1 fields, saw 3\\nSkipping line 20: expected 1 fields, saw 3\\nSkipping line 26: expected 1 fields, saw 2\\nSkipping line 29: expected 1 fields, saw 6\\nSkipping line 30: expected 1 fields, saw 2\\nSkipping line 35: expected 1 fields, saw 2\\nSkipping line 37: expected 1 fields, saw 3\\nSkipping line 39: expected 1 fields, saw 2\\nSkipping line 42: expected 1 fields, saw 2\\nSkipping line 44: expected 1 fields, saw 2\\nSkipping line 46: expected 1 fields, saw 2\\nSkipping line 49: expected 1 fields, saw 7\\nSkipping line 50: expected 1 fields, saw 2\\nSkipping line 53: expected 1 fields, saw 2\\nSkipping line 54: expected 1 fields, saw 2\\nSkipping line 56: expected 1 fields, saw 3\\nSkipping line 57: expected 1 fields, saw 2\\nSkipping line 58: expected 1 fields, saw 2\\nSkipping line 61: expected 1 fields, saw 18\\nSkipping line 63: expected 1 fields, saw 5\\nSkipping line 68: expected 1 fields, saw 3\\nSkipping line 73: expected 1 fields, saw 2\\nSkipping line 76: expected 1 fields, saw 4\\nSkipping line 79: expected 1 fields, saw 3\\nSkipping line 80: expected 1 fields, saw 2\\nSkipping line 81: expected 1 fields, saw 5\\nSkipping line 82: expected 1 fields, saw 2\\nSkipping line 85: expected 1 fields, saw 2\\nSkipping line 87: expected 1 fields, saw 2\\nSkipping line 93: expected 1 fields, saw 2\\nSkipping line 97: expected 1 fields, saw 2\\nSkipping line 100: expected 1 fields, saw 3\\nSkipping line 101: expected 1 fields, saw 4\\nSkipping line 109: expected 1 fields, saw 2\\nSkipping line 110: expected 1 fields, saw 2\\nSkipping line 126: expected 1 fields, saw 2\\nSkipping line 127: expected 1 fields, saw 2\\nSkipping line 128: expected 1 fields, saw 2\\nSkipping line 129: expected 1 fields, saw 4\\nSkipping line 138: expected 1 fields, saw 2\\nSkipping line 142: expected 1 fields, saw 4\\nSkipping line 143: expected 1 fields, saw 4\\nSkipping line 147: expected 1 fields, saw 3\\nSkipping line 148: expected 1 fields, saw 3\\nSkipping line 154: expected 1 fields, saw 2\\nSkipping line 155: expected 1 fields, saw 2\\nSkipping line 156: expected 1 fields, saw 3\\nSkipping line 158: expected 1 fields, saw 2\\nSkipping line 165: expected 1 fields, saw 2\\nSkipping line 168: expected 1 fields, saw 2\\nSkipping line 174: expected 1 fields, saw 2\\nSkipping line 179: expected 1 fields, saw 2\\nSkipping line 180: expected 1 fields, saw 2\\nSkipping line 181: expected 1 fields, saw 3\\nSkipping line 182: expected 1 fields, saw 3\\nSkipping line 189: expected 1 fields, saw 3\\nSkipping line 198: expected 1 fields, saw 2\\nSkipping line 201: expected 1 fields, saw 3\\nSkipping line 204: expected 1 fields, saw 2\\nSkipping line 207: expected 1 fields, saw 4\\nSkipping line 211: expected 1 fields, saw 3\\nSkipping line 220: expected 1 fields, saw 2\\nSkipping line 224: expected 1 fields, saw 2\\nSkipping line 226: expected 1 fields, saw 3\\nSkipping line 228: expected 1 fields, saw 2\\nSkipping line 229: expected 1 fields, saw 2\\nSkipping line 235: expected 1 fields, saw 3\\nSkipping line 238: expected 1 fields, saw 4\\nSkipping line 242: expected 1 fields, saw 2\\nSkipping line 249: expected 1 fields, saw 3\\nSkipping line 252: expected 1 fields, saw 2\\nSkipping line 253: expected 1 fields, saw 5\\nSkipping line 257: expected 1 fields, saw 3\\nSkipping line 260: expected 1 fields, saw 2\\nSkipping line 261: expected 1 fields, saw 3\\nSkipping line 262: expected 1 fields, saw 3\\nSkipping line 263: expected 1 fields, saw 3\\nSkipping line 267: expected 1 fields, saw 2\\nSkipping line 274: expected 1 fields, saw 2\\nSkipping line 278: expected 1 fields, saw 4\\nSkipping line 284: expected 1 fields, saw 3\\nSkipping line 286: expected 1 fields, saw 2\\nSkipping line 288: expected 1 fields, saw 2\\nSkipping line 289: expected 1 fields, saw 2\\nSkipping line 290: expected 1 fields, saw 3\\nSkipping line 291: expected 1 fields, saw 3\\nSkipping line 293: expected 1 fields, saw 3\\nSkipping line 296: expected 1 fields, saw 3\\nSkipping line 304: expected 1 fields, saw 5\\nSkipping line 307: expected 1 fields, saw 3\\nSkipping line 309: expected 1 fields, saw 6\\nSkipping line 311: expected 1 fields, saw 2\\nSkipping line 317: expected 1 fields, saw 3\\nSkipping line 318: expected 1 fields, saw 2\\nSkipping line 319: expected 1 fields, saw 2\\nSkipping line 322: expected 1 fields, saw 2\\nSkipping line 326: expected 1 fields, saw 2\\nSkipping line 327: expected 1 fields, saw 6\\nSkipping line 328: expected 1 fields, saw 2\\nSkipping line 329: expected 1 fields, saw 2\\nSkipping line 333: expected 1 fields, saw 2\\nSkipping line 340: expected 1 fields, saw 3\\nSkipping line 342: expected 1 fields, saw 2\\nSkipping line 343: expected 1 fields, saw 3\\nSkipping line 347: expected 1 fields, saw 3\\nSkipping line 348: expected 1 fields, saw 4\\nSkipping line 349: expected 1 fields, saw 2\\nSkipping line 351: expected 1 fields, saw 3\\nSkipping line 352: expected 1 fields, saw 5\\nSkipping line 356: expected 1 fields, saw 3\\nSkipping line 360: expected 1 fields, saw 2\\nSkipping line 362: expected 1 fields, saw 2\\nSkipping line 365: expected 1 fields, saw 3\\nSkipping line 366: expected 1 fields, saw 5\\nSkipping line 367: expected 1 fields, saw 2\\nSkipping line 368: expected 1 fields, saw 2\\nSkipping line 371: expected 1 fields, saw 2\\nSkipping line 373: expected 1 fields, saw 2\\nSkipping line 377: expected 1 fields, saw 3\\nSkipping line 382: expected 1 fields, saw 3\\nSkipping line 383: expected 1 fields, saw 2\\nSkipping line 384: expected 1 fields, saw 2\\nSkipping line 390: expected 1 fields, saw 3\\nSkipping line 391: expected 1 fields, saw 2\\nSkipping line 392: expected 1 fields, saw 4\\nSkipping line 393: expected 1 fields, saw 2\\nSkipping line 395: expected 1 fields, saw 2\\nSkipping line 397: expected 1 fields, saw 2\\nSkipping line 398: expected 1 fields, saw 4\\nSkipping line 399: expected 1 fields, saw 2\\nSkipping line 405: expected 1 fields, saw 5\\nSkipping line 410: expected 1 fields, saw 2\\nSkipping line 414: expected 1 fields, saw 9\\nSkipping line 425: expected 1 fields, saw 3\\nSkipping line 426: expected 1 fields, saw 4\\nSkipping line 427: expected 1 fields, saw 4\\nSkipping line 428: expected 1 fields, saw 2\\nSkipping line 430: expected 1 fields, saw 3\\nSkipping line 431: expected 1 fields, saw 5\\nSkipping line 433: expected 1 fields, saw 2\\nSkipping line 434: expected 1 fields, saw 3\\nSkipping line 440: expected 1 fields, saw 2\\nSkipping line 449: expected 1 fields, saw 3\\nSkipping line 450: expected 1 fields, saw 2\\nSkipping line 452: expected 1 fields, saw 4\\nSkipping line 458: expected 1 fields, saw 3\\nSkipping line 459: expected 1 fields, saw 4\\nSkipping line 469: expected 1 fields, saw 2\\nSkipping line 482: expected 1 fields, saw 3\\nSkipping line 491: expected 1 fields, saw 2\\nSkipping line 495: expected 1 fields, saw 3\\nSkipping line 496: expected 1 fields, saw 3\\nSkipping line 498: expected 1 fields, saw 4\\nSkipping line 499: expected 1 fields, saw 2\\nSkipping line 500: expected 1 fields, saw 2\\nSkipping line 501: expected 1 fields, saw 3\\nSkipping line 502: expected 1 fields, saw 2\\nSkipping line 503: expected 1 fields, saw 4\\nSkipping line 504: expected 1 fields, saw 2\\nSkipping line 508: expected 1 fields, saw 4\\nSkipping line 509: expected 1 fields, saw 6\\nSkipping line 510: expected 1 fields, saw 2\\nSkipping line 513: expected 1 fields, saw 2\\nSkipping line 521: expected 1 fields, saw 2\\nSkipping line 534: expected 1 fields, saw 2\\nSkipping line 543: expected 1 fields, saw 4\\nSkipping line 546: expected 1 fields, saw 2\\nSkipping line 547: expected 1 fields, saw 2\\nSkipping line 551: expected 1 fields, saw 2\\nSkipping line 554: expected 1 fields, saw 4\\nSkipping line 557: expected 1 fields, saw 2\\nSkipping line 558: expected 1 fields, saw 2\\nSkipping line 561: expected 1 fields, saw 4\\nSkipping line 563: expected 1 fields, saw 3\\nSkipping line 565: expected 1 fields, saw 4\\nSkipping line 570: expected 1 fields, saw 4\\nSkipping line 575: expected 1 fields, saw 2\\nSkipping line 578: expected 1 fields, saw 3\\nSkipping line 585: expected 1 fields, saw 2\\nSkipping line 588: expected 1 fields, saw 2\\nSkipping line 590: expected 1 fields, saw 2\\nSkipping line 594: expected 1 fields, saw 2\\nSkipping line 597: expected 1 fields, saw 2\\nSkipping line 602: expected 1 fields, saw 2\\nSkipping line 603: expected 1 fields, saw 4\\nSkipping line 604: expected 1 fields, saw 3\\nSkipping line 606: expected 1 fields, saw 7\\nSkipping line 608: expected 1 fields, saw 3\\nSkipping line 610: expected 1 fields, saw 2\\nSkipping line 617: expected 1 fields, saw 2\\nSkipping line 618: expected 1 fields, saw 2\\nSkipping line 619: expected 1 fields, saw 3\\nSkipping line 620: expected 1 fields, saw 3\\nSkipping line 622: expected 1 fields, saw 3\\nSkipping line 628: expected 1 fields, saw 4\\nSkipping line 631: expected 1 fields, saw 4\\nSkipping line 645: expected 1 fields, saw 2\\nSkipping line 647: expected 1 fields, saw 5\\nSkipping line 653: expected 1 fields, saw 2\\nSkipping line 662: expected 1 fields, saw 2\\nSkipping line 663: expected 1 fields, saw 2\\nSkipping line 664: expected 1 fields, saw 2\\nSkipping line 665: expected 1 fields, saw 3\\nSkipping line 667: expected 1 fields, saw 3\\nSkipping line 669: expected 1 fields, saw 3\\nSkipping line 671: expected 1 fields, saw 3\\nSkipping line 675: expected 1 fields, saw 2\\nSkipping line 676: expected 1 fields, saw 3\\nSkipping line 679: expected 1 fields, saw 3\\nSkipping line 681: expected 1 fields, saw 5\\nSkipping line 684: expected 1 fields, saw 2\\nSkipping line 685: expected 1 fields, saw 3\\nSkipping line 692: expected 1 fields, saw 2\\nSkipping line 693: expected 1 fields, saw 2\\nSkipping line 699: expected 1 fields, saw 3\\nSkipping line 703: expected 1 fields, saw 3\\nSkipping line 704: expected 1 fields, saw 2\\nSkipping line 706: expected 1 fields, saw 2\\nSkipping line 709: expected 1 fields, saw 2\\nSkipping line 712: expected 1 fields, saw 2\\nSkipping line 722: expected 1 fields, saw 3\\nSkipping line 723: expected 1 fields, saw 2\\nSkipping line 725: expected 1 fields, saw 4\\nSkipping line 727: expected 1 fields, saw 2\\nSkipping line 732: expected 1 fields, saw 2\\nSkipping line 734: expected 1 fields, saw 2\\nSkipping line 735: expected 1 fields, saw 3\\nSkipping line 736: expected 1 fields, saw 2\\nSkipping line 737: expected 1 fields, saw 2\\nSkipping line 738: expected 1 fields, saw 2\\nSkipping line 739: expected 1 fields, saw 6\\nSkipping line 742: expected 1 fields, saw 4\\nSkipping line 743: expected 1 fields, saw 2\\nSkipping line 748: expected 1 fields, saw 2\\nSkipping line 751: expected 1 fields, saw 3\\nSkipping line 752: expected 1 fields, saw 2\\nSkipping line 753: expected 1 fields, saw 2\\nSkipping line 757: expected 1 fields, saw 6\\nSkipping line 761: expected 1 fields, saw 7\\nSkipping line 763: expected 1 fields, saw 2\\nSkipping line 768: expected 1 fields, saw 3\\nSkipping line 770: expected 1 fields, saw 2\\nSkipping line 772: expected 1 fields, saw 4\\nSkipping line 773: expected 1 fields, saw 5\\nSkipping line 780: expected 1 fields, saw 2\\nSkipping line 783: expected 1 fields, saw 5\\nSkipping line 785: expected 1 fields, saw 6\\nSkipping line 786: expected 1 fields, saw 2\\nSkipping line 790: expected 1 fields, saw 5\\nSkipping line 792: expected 1 fields, saw 2\\nSkipping line 794: expected 1 fields, saw 6\\nSkipping line 796: expected 1 fields, saw 2\\nSkipping line 797: expected 1 fields, saw 3\\nSkipping line 807: expected 1 fields, saw 4\\nSkipping line 812: expected 1 fields, saw 4\\nSkipping line 816: expected 1 fields, saw 5\\nSkipping line 817: expected 1 fields, saw 2\\nSkipping line 818: expected 1 fields, saw 2\\nSkipping line 821: expected 1 fields, saw 2\\nSkipping line 828: expected 1 fields, saw 2\\nSkipping line 838: expected 1 fields, saw 3\\nSkipping line 839: expected 1 fields, saw 2\\nSkipping line 843: expected 1 fields, saw 5\\nSkipping line 844: expected 1 fields, saw 3\\nSkipping line 846: expected 1 fields, saw 2\\nSkipping line 854: expected 1 fields, saw 5\\nSkipping line 857: expected 1 fields, saw 2\\nSkipping line 859: expected 1 fields, saw 2\\n'\n"
          ],
          "name": "stderr"
        }
      ]
    },
    {
      "cell_type": "code",
      "metadata": {
        "colab": {
          "base_uri": "https://localhost:8080/",
          "height": 415
        },
        "id": "yvXJY_hWRMUE",
        "outputId": "6a29d6e7-f538-4e28-d089-ae7fef624467"
      },
      "source": [
        "#changing the column names for train dataset\r\n",
        "train.columns = ['tweet']\r\n",
        "train\r\n"
      ],
      "execution_count": 9,
      "outputs": [
        {
          "output_type": "execute_result",
          "data": {
            "text/html": [
              "<div>\n",
              "<style scoped>\n",
              "    .dataframe tbody tr th:only-of-type {\n",
              "        vertical-align: middle;\n",
              "    }\n",
              "\n",
              "    .dataframe tbody tr th {\n",
              "        vertical-align: top;\n",
              "    }\n",
              "\n",
              "    .dataframe thead th {\n",
              "        text-align: right;\n",
              "    }\n",
              "</style>\n",
              "<table border=\"1\" class=\"dataframe\">\n",
              "  <thead>\n",
              "    <tr style=\"text-align: right;\">\n",
              "      <th></th>\n",
              "      <th>tweet</th>\n",
              "    </tr>\n",
              "  </thead>\n",
              "  <tbody>\n",
              "    <tr>\n",
              "      <th>0</th>\n",
              "      <td>@user Eight years the republicans denied obama...</td>\n",
              "    </tr>\n",
              "    <tr>\n",
              "      <th>1</th>\n",
              "      <td>@user Get him some line help. He is gonna be j...</td>\n",
              "    </tr>\n",
              "    <tr>\n",
              "      <th>2</th>\n",
              "      <td>@user @user She is great. Hi Fiona!</td>\n",
              "    </tr>\n",
              "    <tr>\n",
              "      <th>3</th>\n",
              "      <td>@user She has become a parody unto herself? Sh...</td>\n",
              "    </tr>\n",
              "    <tr>\n",
              "      <th>4</th>\n",
              "      <td>@user Your looking more like a plant #maga #wa...</td>\n",
              "    </tr>\n",
              "    <tr>\n",
              "      <th>...</th>\n",
              "      <td>...</td>\n",
              "    </tr>\n",
              "    <tr>\n",
              "      <th>11376</th>\n",
              "      <td>@user I wonder if they are sex traffic victims?</td>\n",
              "    </tr>\n",
              "    <tr>\n",
              "      <th>11377</th>\n",
              "      <td>@user Do we dare say he is... better than Nyjer?</td>\n",
              "    </tr>\n",
              "    <tr>\n",
              "      <th>11378</th>\n",
              "      <td>@user No idea who he is. Sorry</td>\n",
              "    </tr>\n",
              "    <tr>\n",
              "      <th>11379</th>\n",
              "      <td>#Professor Who Shot Self Over Trump Says Gun C...</td>\n",
              "    </tr>\n",
              "    <tr>\n",
              "      <th>11380</th>\n",
              "      <td>@user @user @user Here your proof!  Our Africa...</td>\n",
              "    </tr>\n",
              "  </tbody>\n",
              "</table>\n",
              "<p>11381 rows × 1 columns</p>\n",
              "</div>"
            ],
            "text/plain": [
              "                                                   tweet\n",
              "0      @user Eight years the republicans denied obama...\n",
              "1      @user Get him some line help. He is gonna be j...\n",
              "2                   @user @user She is great. Hi Fiona! \n",
              "3      @user She has become a parody unto herself? Sh...\n",
              "4      @user Your looking more like a plant #maga #wa...\n",
              "...                                                  ...\n",
              "11376   @user I wonder if they are sex traffic victims? \n",
              "11377  @user Do we dare say he is... better than Nyjer? \n",
              "11378                    @user No idea who he is. Sorry \n",
              "11379  #Professor Who Shot Self Over Trump Says Gun C...\n",
              "11380  @user @user @user Here your proof!  Our Africa...\n",
              "\n",
              "[11381 rows x 1 columns]"
            ]
          },
          "metadata": {
            "tags": []
          },
          "execution_count": 9
        }
      ]
    },
    {
      "cell_type": "code",
      "metadata": {
        "colab": {
          "base_uri": "https://localhost:8080/",
          "height": 415
        },
        "id": "u1n3dHVSRYZO",
        "outputId": "6d722520-a9e1-49a5-ac0c-b62f2d24224b"
      },
      "source": [
        "#changing the column name for test dataset\r\n",
        "test.columns = ['tweet']\r\n",
        "test"
      ],
      "execution_count": 11,
      "outputs": [
        {
          "output_type": "execute_result",
          "data": {
            "text/html": [
              "<div>\n",
              "<style scoped>\n",
              "    .dataframe tbody tr th:only-of-type {\n",
              "        vertical-align: middle;\n",
              "    }\n",
              "\n",
              "    .dataframe tbody tr th {\n",
              "        vertical-align: top;\n",
              "    }\n",
              "\n",
              "    .dataframe thead th {\n",
              "        text-align: right;\n",
              "    }\n",
              "</style>\n",
              "<table border=\"1\" class=\"dataframe\">\n",
              "  <thead>\n",
              "    <tr style=\"text-align: right;\">\n",
              "      <th></th>\n",
              "      <th>tweet</th>\n",
              "    </tr>\n",
              "  </thead>\n",
              "  <tbody>\n",
              "    <tr>\n",
              "      <th>0</th>\n",
              "      <td>@user @user @user I got in a pretty deep debat...</td>\n",
              "    </tr>\n",
              "    <tr>\n",
              "      <th>1</th>\n",
              "      <td>Angels now have 6 runs. Five of them have come...</td>\n",
              "    </tr>\n",
              "    <tr>\n",
              "      <th>2</th>\n",
              "      <td>#naturephotography. #nature. #birds #wild in #...</td>\n",
              "    </tr>\n",
              "    <tr>\n",
              "      <th>3</th>\n",
              "      <td>#i2 This speaks for itself (NSFW)</td>\n",
              "    </tr>\n",
              "    <tr>\n",
              "      <th>4</th>\n",
              "      <td>#RAP is a form of ART! Used to express yoursel...</td>\n",
              "    </tr>\n",
              "    <tr>\n",
              "      <th>...</th>\n",
              "      <td>...</td>\n",
              "    </tr>\n",
              "    <tr>\n",
              "      <th>581</th>\n",
              "      <td>#Hillary and @ least 16 other #AngryDemocrats ...</td>\n",
              "    </tr>\n",
              "    <tr>\n",
              "      <th>582</th>\n",
              "      <td>#Denver's venues are STACKED with epic shows t...</td>\n",
              "    </tr>\n",
              "    <tr>\n",
              "      <th>583</th>\n",
              "      <td>#CNN irrationally argues 4 legalising #abortio...</td>\n",
              "    </tr>\n",
              "    <tr>\n",
              "      <th>584</th>\n",
              "      <td>#Conservatives don’t care what you post..it’s ...</td>\n",
              "    </tr>\n",
              "    <tr>\n",
              "      <th>585</th>\n",
              "      <td>#Maine you need to face facts @user doesn’t re...</td>\n",
              "    </tr>\n",
              "  </tbody>\n",
              "</table>\n",
              "<p>586 rows × 1 columns</p>\n",
              "</div>"
            ],
            "text/plain": [
              "                                                 tweet\n",
              "0    @user @user @user I got in a pretty deep debat...\n",
              "1    Angels now have 6 runs. Five of them have come...\n",
              "2    #naturephotography. #nature. #birds #wild in #...\n",
              "3                   #i2 This speaks for itself (NSFW) \n",
              "4    #RAP is a form of ART! Used to express yoursel...\n",
              "..                                                 ...\n",
              "581  #Hillary and @ least 16 other #AngryDemocrats ...\n",
              "582  #Denver's venues are STACKED with epic shows t...\n",
              "583  #CNN irrationally argues 4 legalising #abortio...\n",
              "584  #Conservatives don’t care what you post..it’s ...\n",
              "585  #Maine you need to face facts @user doesn’t re...\n",
              "\n",
              "[586 rows x 1 columns]"
            ]
          },
          "metadata": {
            "tags": []
          },
          "execution_count": 11
        }
      ]
    },
    {
      "cell_type": "code",
      "metadata": {
        "id": "esdz9Ui-RnSJ"
      },
      "source": [
        "#reading the uploaded train and test labels\r\n",
        "tr = pd.read_csv('train_labels.txt',error_bad_lines=False)\r\n",
        "ts = pd.read_csv('test_labels.txt',error_bad_lines=False)"
      ],
      "execution_count": 12,
      "outputs": []
    },
    {
      "cell_type": "code",
      "metadata": {
        "id": "5nEUZJxDSnrQ"
      },
      "source": [
        "#renaming the column names for train and test labels\r\n",
        "tr.columns = ['label']\r\n",
        "ts.columns = ['label']"
      ],
      "execution_count": 14,
      "outputs": []
    },
    {
      "cell_type": "code",
      "metadata": {
        "id": "ugM273vaT7Wd"
      },
      "source": [
        "#using the function concat we are concating train and test dataset\r\n",
        "train = pd.concat([train,tr])\r\n",
        "test = pd.concat([test,ts])"
      ],
      "execution_count": 16,
      "outputs": []
    },
    {
      "cell_type": "code",
      "metadata": {
        "colab": {
          "base_uri": "https://localhost:8080/",
          "height": 415
        },
        "id": "_-ERgobkUNlL",
        "outputId": "79516dda-541b-4f44-f595-b62f79fc98ad"
      },
      "source": [
        "train"
      ],
      "execution_count": 17,
      "outputs": [
        {
          "output_type": "execute_result",
          "data": {
            "text/html": [
              "<div>\n",
              "<style scoped>\n",
              "    .dataframe tbody tr th:only-of-type {\n",
              "        vertical-align: middle;\n",
              "    }\n",
              "\n",
              "    .dataframe tbody tr th {\n",
              "        vertical-align: top;\n",
              "    }\n",
              "\n",
              "    .dataframe thead th {\n",
              "        text-align: right;\n",
              "    }\n",
              "</style>\n",
              "<table border=\"1\" class=\"dataframe\">\n",
              "  <thead>\n",
              "    <tr style=\"text-align: right;\">\n",
              "      <th></th>\n",
              "      <th>tweet</th>\n",
              "      <th>label</th>\n",
              "    </tr>\n",
              "  </thead>\n",
              "  <tbody>\n",
              "    <tr>\n",
              "      <th>0</th>\n",
              "      <td>@user Eight years the republicans denied obama...</td>\n",
              "      <td>NaN</td>\n",
              "    </tr>\n",
              "    <tr>\n",
              "      <th>1</th>\n",
              "      <td>@user Get him some line help. He is gonna be j...</td>\n",
              "      <td>NaN</td>\n",
              "    </tr>\n",
              "    <tr>\n",
              "      <th>2</th>\n",
              "      <td>@user @user She is great. Hi Fiona!</td>\n",
              "      <td>NaN</td>\n",
              "    </tr>\n",
              "    <tr>\n",
              "      <th>3</th>\n",
              "      <td>@user She has become a parody unto herself? Sh...</td>\n",
              "      <td>NaN</td>\n",
              "    </tr>\n",
              "    <tr>\n",
              "      <th>4</th>\n",
              "      <td>@user Your looking more like a plant #maga #wa...</td>\n",
              "      <td>NaN</td>\n",
              "    </tr>\n",
              "    <tr>\n",
              "      <th>...</th>\n",
              "      <td>...</td>\n",
              "      <td>...</td>\n",
              "    </tr>\n",
              "    <tr>\n",
              "      <th>11910</th>\n",
              "      <td>NaN</td>\n",
              "      <td>1.0</td>\n",
              "    </tr>\n",
              "    <tr>\n",
              "      <th>11911</th>\n",
              "      <td>NaN</td>\n",
              "      <td>0.0</td>\n",
              "    </tr>\n",
              "    <tr>\n",
              "      <th>11912</th>\n",
              "      <td>NaN</td>\n",
              "      <td>0.0</td>\n",
              "    </tr>\n",
              "    <tr>\n",
              "      <th>11913</th>\n",
              "      <td>NaN</td>\n",
              "      <td>0.0</td>\n",
              "    </tr>\n",
              "    <tr>\n",
              "      <th>11914</th>\n",
              "      <td>NaN</td>\n",
              "      <td>1.0</td>\n",
              "    </tr>\n",
              "  </tbody>\n",
              "</table>\n",
              "<p>35211 rows × 2 columns</p>\n",
              "</div>"
            ],
            "text/plain": [
              "                                                   tweet  label\n",
              "0      @user Eight years the republicans denied obama...    NaN\n",
              "1      @user Get him some line help. He is gonna be j...    NaN\n",
              "2                   @user @user She is great. Hi Fiona!     NaN\n",
              "3      @user She has become a parody unto herself? Sh...    NaN\n",
              "4      @user Your looking more like a plant #maga #wa...    NaN\n",
              "...                                                  ...    ...\n",
              "11910                                                NaN    1.0\n",
              "11911                                                NaN    0.0\n",
              "11912                                                NaN    0.0\n",
              "11913                                                NaN    0.0\n",
              "11914                                                NaN    1.0\n",
              "\n",
              "[35211 rows x 2 columns]"
            ]
          },
          "metadata": {
            "tags": []
          },
          "execution_count": 17
        }
      ]
    },
    {
      "cell_type": "code",
      "metadata": {
        "colab": {
          "base_uri": "https://localhost:8080/"
        },
        "id": "B3PBFTAfVswq",
        "outputId": "77f14032-0d5d-42d8-88a4-5fbbc2d37e4a"
      },
      "source": [
        "#Downloading NLTK Stopwords & treebank\r\n",
        "nltk.download('stopwords')\r\n",
        "nltk.download('treebank')\r\n",
        "nltk.download('wordnet')"
      ],
      "execution_count": 18,
      "outputs": [
        {
          "output_type": "stream",
          "text": [
            "[nltk_data] Downloading package stopwords to /root/nltk_data...\n",
            "[nltk_data]   Unzipping corpora/stopwords.zip.\n",
            "[nltk_data] Downloading package treebank to /root/nltk_data...\n",
            "[nltk_data]   Unzipping corpora/treebank.zip.\n",
            "[nltk_data] Downloading package wordnet to /root/nltk_data...\n",
            "[nltk_data]   Unzipping corpora/wordnet.zip.\n"
          ],
          "name": "stdout"
        },
        {
          "output_type": "execute_result",
          "data": {
            "text/plain": [
              "True"
            ]
          },
          "metadata": {
            "tags": []
          },
          "execution_count": 18
        }
      ]
    },
    {
      "cell_type": "code",
      "metadata": {
        "id": "lNgOyvkbWKeY"
      },
      "source": [
        "\r\n",
        "wpt = nltk.WordPunctTokenizer()\r\n",
        "stopWords = nltk.corpus.stopwords.words('english')\r\n",
        "stemmer = nltk.stem.PorterStemmer()\r\n",
        "lemmatizer = nltk.stem.WordNetLemmatizer()\r\n",
        "part_of_speech_taggin = nltk.pos_tag\r\n",
        "tagged_sentences = nltk.corpus.treebank.tagged_sents()"
      ],
      "execution_count": 19,
      "outputs": []
    },
    {
      "cell_type": "code",
      "metadata": {
        "id": "UUfHhcu0WbrJ"
      },
      "source": [
        "contractions = {\r\n",
        "    \"ain't\": \"am not / are not / is not / has not / have not\",\r\n",
        "    \"aren't\": \"are not / am not\",\r\n",
        "    \"can't\": \"cannot\",\r\n",
        "    \"can't've\": \"cannot have\",\r\n",
        "    \"'cause\": \"because\",\r\n",
        "    \"could've\": \"could have\",\r\n",
        "    \"couldn't\": \"could not\",\r\n",
        "    \"couldn't've\": \"could not have\",\r\n",
        "    \"didn't\": \"did not\",\r\n",
        "    \"doesn't\": \"does not\",\r\n",
        "    \"don't\": \"do not\",\r\n",
        "    \"hadn't\": \"had not\",\r\n",
        "    \"hadn't've\": \"had not have\",\r\n",
        "    \"hasn't\": \"has not\",\r\n",
        "    \"haven't\": \"have not\",\r\n",
        "    \"he'd\": \"he had / he would\",\r\n",
        "    \"he'd've\": \"he would have\",\r\n",
        "    \"he'll\": \"he shall / he will\",\r\n",
        "    \"he'll've\": \"he shall have / he will have\",\r\n",
        "    \"he's\": \"he has / he is\",\r\n",
        "    \"how'd\": \"how did\",\r\n",
        "    \"how'd'y\": \"how do you\",\r\n",
        "    \"how'll\": \"how will\",\r\n",
        "    \"how's\": \"how has / how is / how does\",\r\n",
        "    \"I'd\": \"I had / I would\",\r\n",
        "    \"I'd've\": \"I would have\",\r\n",
        "    \"I'll\": \"I shall / I will\",\r\n",
        "    \"I'll've\": \"I shall have / I will have\",\r\n",
        "    \"I'm\": \"I am\",\r\n",
        "    \"I've\": \"I have\",\r\n",
        "    \"isn't\": \"is not\",\r\n",
        "    \"it'd\": \"it had / it would\",\r\n",
        "    \"it'd've\": \"it would have\",\r\n",
        "    \"it'll\": \"it shall / it will\",\r\n",
        "    \"it'll've\": \"it shall have / it will have\",\r\n",
        "    \"it's\": \"it has / it is\",\r\n",
        "    \"let's\": \"let us\",\r\n",
        "    \"ma'am\": \"madam\",\r\n",
        "    \"mayn't\": \"may not\",\r\n",
        "    \"might've\": \"might have\",\r\n",
        "    \"mightn't\": \"might not\",\r\n",
        "    \"mightn't've\": \"might not have\",\r\n",
        "    \"must've\": \"must have\",\r\n",
        "    \"mustn't\": \"must not\",\r\n",
        "    \"mustn't've\": \"must not have\",\r\n",
        "    \"needn't\": \"need not\",\r\n",
        "    \"needn't've\": \"need not have\",\r\n",
        "    \"o'clock\": \"of the clock\",\r\n",
        "    \"oughtn't\": \"ought not\",\r\n",
        "    \"oughtn't've\": \"ought not have\",\r\n",
        "    \"shan't\": \"shall not\",\r\n",
        "    \"sha'n't\": \"shall not\",\r\n",
        "    \"shan't've\": \"shall not have\",\r\n",
        "    \"she'd\": \"she had / she would\",\r\n",
        "    \"she'd've\": \"she would have\",\r\n",
        "    \"she'll\": \"she shall / she will\",\r\n",
        "    \"she'll've\": \"she shall have / she will have\",\r\n",
        "    \"she's\": \"she has / she is\",\r\n",
        "    \"should've\": \"should have\",\r\n",
        "    \"shouldn't\": \"should not\",\r\n",
        "    \"shouldn't've\": \"should not have\",\r\n",
        "    \"so've\": \"so have\",\r\n",
        "    \"so's\": \"so as / so is\",\r\n",
        "    \"that'd\": \"that would / that had\",\r\n",
        "    \"that'd've\": \"that would have\",\r\n",
        "    \"that's\": \"that has / that is\",\r\n",
        "    \"there'd\": \"there had / there would\",\r\n",
        "    \"there'd've\": \"there would have\",\r\n",
        "    \"there's\": \"there has / there is\",\r\n",
        "    \"they'd\": \"they had / they would\",\r\n",
        "    \"they'd've\": \"they would have\",\r\n",
        "    \"they'll\": \"they shall / they will\",\r\n",
        "    \"they'll've\": \"they shall have / they will have\",\r\n",
        "    \"they're\": \"they are\",\r\n",
        "    \"they've\": \"they have\",\r\n",
        "    \"to've\": \"to have\",\r\n",
        "    \"wasn't\": \"was not\",\r\n",
        "    \"we'd\": \"we had / we would\",\r\n",
        "    \"we'd've\": \"we would have\",\r\n",
        "    \"we'll\": \"we will\",\r\n",
        "    \"we'll've\": \"we will have\",\r\n",
        "    \"we're\": \"we are\",\r\n",
        "    \"we've\": \"we have\",\r\n",
        "    \"weren't\": \"were not\",\r\n",
        "    \"what'll\": \"what shall / what will\",\r\n",
        "    \"what'll've\": \"what shall have / what will have\",\r\n",
        "    \"what're\": \"what are\",\r\n",
        "    \"what's\": \"what has / what is\",\r\n",
        "    \"what've\": \"what have\",\r\n",
        "    \"when's\": \"when has / when is\",\r\n",
        "    \"when've\": \"when have\",\r\n",
        "    \"where'd\": \"where did\",\r\n",
        "    \"where's\": \"where has / where is\",\r\n",
        "    \"where've\": \"where have\",\r\n",
        "    \"who'll\": \"who shall / who will\",\r\n",
        "    \"who'll've\": \"who shall have / who will have\",\r\n",
        "    \"who's\": \"who has / who is\",\r\n",
        "    \"who've\": \"who have\",\r\n",
        "    \"why's\": \"why has / why is\",\r\n",
        "    \"why've\": \"why have\",\r\n",
        "    \"will've\": \"will have\",\r\n",
        "    \"won't\": \"will not\",\r\n",
        "    \"won't've\": \"will not have\",\r\n",
        "    \"would've\": \"would have\",\r\n",
        "    \"wouldn't\": \"would not\",\r\n",
        "    \"wouldn't've\": \"would not have\",\r\n",
        "    \"y'all\": \"you all\",\r\n",
        "    \"y'all'd\": \"you all would\",\r\n",
        "    \"y'all'd've\": \"you all would have\",\r\n",
        "    \"y'all're\": \"you all are\",\r\n",
        "    \"y'all've\": \"you all have\",\r\n",
        "    \"you'd\": \"you had / you would\",\r\n",
        "    \"you'd've\": \"you would have\",\r\n",
        "    \"you'll\": \"you shall / you will\",\r\n",
        "    \"you'll've\": \"you shall have / you will have\",\r\n",
        "    \"you're\": \"you are\",\r\n",
        "    \"you've\": \"you have\"\r\n",
        "}\r\n",
        "contractions_re = re.compile('(%s)' % '|'.join(contractions.keys()))\r\n",
        "\r\n",
        "\r\n",
        "def expand_contractions(s, contractions_dict=contractions):\r\n",
        "    def replace(match):\r\n",
        "        return contractions_dict[match.group(0)]\r\n",
        "    return contractions_re.sub(replace, s)"
      ],
      "execution_count": 20,
      "outputs": []
    },
    {
      "cell_type": "code",
      "metadata": {
        "id": "pJ6gtInCXAf_"
      },
      "source": [
        "def document_filter_tagging(doc):\r\n",
        "    ## Remove HTML Characters\r\n",
        "    html_parser = HTMLParser()\r\n",
        "    doc = html_parser.unescape(doc)\r\n",
        "    ## Decode the Data (keep all the data in UTF-8 encoded characters\r\n",
        "    #doc = doc.encode.(\"utf8\").encode('ascii','ignore')\r\n",
        "    ## Remove Emoji if exist using Regular Expressions\r\n",
        "    emoji_pattern = re.compile(\r\n",
        "        u\"(\\ud83d[\\ude00-\\ude4f])|\"  # emoticons\r\n",
        "        u\"(\\ud83c[\\udf00-\\uffff])|\"  # symbols & pictographs (1 of 2)\r\n",
        "        u\"(\\ud83d[\\u0000-\\uddff])|\"  # symbols & pictographs (2 of 2)\r\n",
        "        u\"(\\ud83d[\\ude80-\\udeff])|\"  # transport & map symbols\r\n",
        "        u\"(\\ud83c[\\udde0-\\uddff])\"   # flags (iOS)\r\n",
        "        \"+\", flags=re.UNICODE)\r\n",
        "    emoji_pattern.sub(r'', doc)\r\n",
        "    \r\n",
        "    ## Split attached words like \"Fu*kYou\"\r\n",
        "    #doc = ' '.join(re.findall('[A-Z][^A-Z]+', doc))\r\n",
        "    ## Standardizing Words \"like FUUUUUUUU*K => FU*K\"\r\n",
        "    doc = ''.join(''.join(s)[:2] for _, s in itertools.groupby(doc))\r\n",
        "    ## Lower canse\r\n",
        "    doc = doc.lower()\r\n",
        "    ## Expand contraction \"isn't => is not\"\r\n",
        "    doc = expand_contractions(doc)\r\n",
        "    ## Transform Slang Words NOT YET :( :(\r\n",
        "    ## remove special characters\\whitespaces\r\n",
        "    doc = re.sub(r'[^a-zA-Z\\s]', '', doc, re.I | re.A)\r\n",
        "    doc = doc.strip()  # NO leading or tailing white spaces\r\n",
        "    \r\n",
        "    # tokenize document\r\n",
        "    tokens = wpt.tokenize(doc)\r\n",
        "\r\n",
        "       \r\n",
        "  # Tagging each Token with POS\r\n",
        "    text = tokens\r\n",
        "    text_tagged = nltk.pos_tag(text)\r\n",
        "    new_text = []\r\n",
        "    for word in text_tagged:\r\n",
        "        new_text.append(word[0] + \"/\" + word[1])\r\n",
        "    ## filter stopwords out of document\r\n",
        "    filtered_tokens=[]\r\n",
        "    for token in new_text:\r\n",
        "        if token.split('/')[0] not in stopWords:\r\n",
        "            filtered_tokens.append(token)\r\n",
        "\r\n",
        "    doc = ' '.join(filtered_tokens)\r\n",
        "    \r\n",
        "   \r\n",
        "    # Remove punctuactions\r\n",
        "    # This will remove every punctuation in the Document\r\n",
        "    doc.translate(string.punctuation)\r\n",
        "    return doc"
      ],
      "execution_count": 22,
      "outputs": []
    },
    {
      "cell_type": "code",
      "metadata": {
        "id": "gZWU6FxuXUZT"
      },
      "source": [
        "def document_filter(doc):\r\n",
        "    ## Remove HTML Characters\r\n",
        "    html_parser = HTMLParser()\r\n",
        "    doc = html_parser.unescape(doc)\r\n",
        "    ## Decode the Data (keep all the data in UTF-8 encoded characters\r\n",
        "    #doc = doc.encode.(\"utf8\").encode('ascii','ignore')\r\n",
        "    ## Remove Emoji if exist using Regular Expressions\r\n",
        "    emoji_pattern = re.compile(\r\n",
        "        u\"(\\ud83d[\\ude00-\\ude4f])|\"  # emoticons\r\n",
        "        u\"(\\ud83c[\\udf00-\\uffff])|\"  # symbols & pictographs (1 of 2)\r\n",
        "        u\"(\\ud83d[\\u0000-\\uddff])|\"  # symbols & pictographs (2 of 2)\r\n",
        "        u\"(\\ud83d[\\ude80-\\udeff])|\"  # transport & map symbols\r\n",
        "        u\"(\\ud83c[\\udde0-\\uddff])\"   # flags (iOS)\r\n",
        "        \"+\", flags=re.UNICODE)\r\n",
        "    emoji_pattern.sub(r'', doc)\r\n",
        "    \r\n",
        "    ## Split attached words like \"Fu*kYou\"\r\n",
        "    #doc = ' '.join(re.findall('[A-Z][^A-Z]+', doc))\r\n",
        "    ## Standardizing Words \"like FUUUUUUUU*K => FU*K\"\r\n",
        "    doc = ''.join(''.join(s)[:2] for _, s in itertools.groupby(doc))\r\n",
        "    ## Lower canse\r\n",
        "    doc = doc.lower()\r\n",
        "    ## Expand contraction \"isn't => is not\"\r\n",
        "    doc = expand_contractions(doc)\r\n",
        "    ## Transform Slang Words NOT YET :( :(\r\n",
        "    ## remove special characters\\whitespaces\r\n",
        "    doc = re.sub(r'[^a-zA-Z\\s]', '', doc, re.I | re.A)\r\n",
        "    doc = doc.strip()  # NO leading or tailing white spaces\r\n",
        "    \r\n",
        "    # tokenize document\r\n",
        "    tokens = wpt.tokenize(doc)\r\n",
        "  \r\n",
        "   ## filter stopwords out of document\r\n",
        "    filtered_tokens = [token for token in tokens if token not in stopWords]\r\n",
        "  \r\n",
        "    # Stemming the Document using NLTK\r\n",
        "    stemmed_tokens = []\r\n",
        "    for token in filtered_tokens:\r\n",
        "        stemmed_tokens.append(stemmer.stem(token))\r\n",
        "    doc = ' '.join(stemmed_tokens)\r\n",
        "    # Lemmatization with NLTK\r\n",
        "    lemmatized_tokens = []\r\n",
        "    for token in stemmed_tokens:\r\n",
        "        lemmatized_tokens.append(lemmatizer.lemmatize(token))\r\n",
        "    doc = ' '.join(filtered_tokens)\r\n",
        "    \r\n",
        "   \r\n",
        "    # Remove punctuactions\r\n",
        "    # This will remove every punctuation in the Document\r\n",
        "    doc.translate(string.punctuation)\r\n",
        "    return doc"
      ],
      "execution_count": 23,
      "outputs": []
    },
    {
      "cell_type": "code",
      "metadata": {
        "id": "INqOX66PXnd-"
      },
      "source": [
        "\r\n",
        "#Function for generating feature vectors\r\n",
        "def cv_Vectorization(data, range=(1, 2)):\r\n",
        "\r\n",
        "    WoB_vect = CountVectorizer(analyzer='word', token_pattern=r'\\w{1,}', ngram_range=range, max_features=10000)\r\n",
        "    cv = WoB_vect.fit_transform(data.values.astype('U')).toarray()\r\n",
        "\r\n",
        "\r\n",
        "    return cv, cv_valid\r\n",
        "\r\n",
        "# TF_IDF vectorizer based on 2-grams words\r\n",
        "\r\n",
        "\r\n",
        "def tfdif_vectorization(data_train, range=(2, 3)):\r\n",
        "\r\n",
        "    \r\n",
        "    tfdif_vectorizer = TfidfVectorizer(analyzer='word', ngram_range=range, max_features=10000, min_df=0, max_df=1)\r\n",
        "    tfdif_train_x = tfdif_vectorizer.fit_transform(data_train.values.astype('U'))\r\n",
        "    \r\n",
        "    \r\n",
        "\r\n",
        "    return tfdif_train_x\r\n",
        "\r\n",
        "\r\n",
        "def bow_tfidf_vectorization(data_train, range=(2, 3)):\r\n",
        "    WoB_vect = CountVectorizer(\r\n",
        "        analyzer='word', token_pattern=r'\\w{1,}', ngram_range=range, max_features=5000)\r\n",
        "    cv = WoB_vect.fit_transform(data_train.values.astype('U'))\r\n",
        "    #cv_valid = WoB_vect.fit_transform(data_validation.values.astype('U'))\r\n",
        "\r\n",
        "    tfdif_transformer = TfidfTransformer()\r\n",
        "    tfdif_train_x = tfdif_transformer.fit_transform(cv)\r\n",
        "    #tfdif_validation_x = tfdif_transformer.fit_transform(cv_valid)\r\n",
        "\r\n",
        "    return tfdif_train_x"
      ],
      "execution_count": 24,
      "outputs": []
    }
  ]
}